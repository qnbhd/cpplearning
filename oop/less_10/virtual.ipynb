{
 "cells": [
  {
   "cell_type": "code",
   "execution_count": 1,
   "metadata": {},
   "outputs": [],
   "source": [
    "// \n",
    "struct Person {\n",
    "    string name () const { return name_ ; }\n",
    "    ...\n",
    "};\n",
    "struct Professor : Person {\n",
    "    string name () const {\n",
    "        return \" Prof . \" + Person :: name ();\n",
    "    }\n",
    "    ...\n",
    "};\n",
    "Professor pr ( \"Stroustrup\" );\n",
    "cout << pr.name () << endl; // Prof. Stroustrup\n",
    "Person * p = &pr;\n",
    "cout << p->name () << endl; // Stroustrup"
   ]
  },
  {
   "cell_type": "code",
   "execution_count": 2,
   "metadata": {},
   "outputs": [],
   "source": [
    "// \n",
    "struct Person {\n",
    "    virtual string name () const { return name_ ; }\n",
    "    ...\n",
    "};\n",
    "struct Professor : Person {\n",
    "    string name () const {\n",
    "        return \" Prof . \" + Person :: name ();\n",
    "    }\n",
    "    ...\n",
    "};\n",
    "\n",
    "Professor pr ( \"Stroustrup\" );\n",
    "cout << pr.name() << endl; // Prof. Stroustrup\n",
    "Person * p = &pr;\n",
    "cout << p->name() << endl; // Prof. Stroustrup"
   ]
  },
  {
   "cell_type": "code",
   "execution_count": 3,
   "metadata": {},
   "outputs": [],
   "source": [
    "//\n",
    "struct Person {\n",
    "    virtual string occupation () const = 0;\n",
    "    ...\n",
    "};\n",
    "struct Student : Person {\n",
    "    string occupation () const { return \" student \" ;}\n",
    "    ...\n",
    "};\n",
    "struct Professor : Person {\n",
    "    string occupation () const { return \" professor \" ;}\n",
    "    ...\n",
    "};\n",
    "Person * p = next_person ();"
   ]
  },
  {
   "cell_type": "code",
   "execution_count": 4,
   "metadata": {},
   "outputs": [],
   "source": [
    "// К чему приведёт такой код?\n",
    "struct Person {\n",
    "    ...\n",
    "};\n",
    "struct Student : Person {\n",
    "    ...\n",
    "private :\n",
    "    string uni_ ;\n",
    "};\n",
    "\n",
    "Person * p = new Student ( \" Alex \" ,21 , \" Oxford \" );\n",
    "...\n",
    "delete p ;"
   ]
  },
  {
   "cell_type": "code",
   "execution_count": 5,
   "metadata": {},
   "outputs": [],
   "source": [
    "// Правильная реализация:\n",
    "struct Person {\n",
    "    ...\n",
    "    virtual ~ Person () {}\n",
    "};\n",
    "struct Student : Person {\n",
    "    ...\n",
    "private :\n",
    "    string uni_ ;\n",
    "};\n",
    "\n",
    "Person * p = new Student ( \" Alex \" ,21 , \" Oxford \" );\n",
    "...\n",
    "delete p ;"
   ]
  },
  {
   "cell_type": "code",
   "execution_count": 6,
   "metadata": {},
   "outputs": [],
   "source": [
    "/* \n",
    "Полиморфизм\n",
    "Возможность единообразно обрабатывать разные типы данных.\n",
    "Перегрузка функций\n",
    "Выбор функции происходит в момент компиляции на основе\n",
    "типов аргументов функции, статический полиморфизм.\n",
    "Виртуальные методы\n",
    "Выбор метода происходит в момент выполнения на основе типа\n",
    "объекта, у которого вызывается виртуальный метод,\n",
    "динамический полиморфизм.\n",
    "*/"
   ]
  }
 ],
 "metadata": {
  "kernelspec": {
   "display_name": "C++17",
   "language": "C++17",
   "name": "xeus-cling-cpp17"
  },
  "language_info": {
   "codemirror_mode": "text/x-c++src",
   "file_extension": ".cpp",
   "mimetype": "text/x-c++src",
   "name": "c++",
   "version": "-std=c++17"
  }
 },
 "nbformat": 4,
 "nbformat_minor": 2
}
