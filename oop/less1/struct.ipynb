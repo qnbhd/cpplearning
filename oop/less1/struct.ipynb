{
 "cells": [
  {
   "cell_type": "code",
   "execution_count": 1,
   "metadata": {},
   "outputs": [],
   "source": [
    "#include <iostream>\n",
    "#define endl \"\\n\"\n",
    "using namespace std;"
   ]
  },
  {
   "cell_type": "code",
   "execution_count": 2,
   "metadata": {},
   "outputs": [],
   "source": [
    "/* Зачем группировать данные? \n",
    "Какая должна быть сигнатура у функции, которая вычисляет\n",
    "длину отрезка на плоскости? */\n",
    "\n",
    "double length (double x1, double y1, double x2, double y2);\n",
    "\n",
    "// А сигнатура функции, проверяющей пересечение отрезков?\n",
    "\n",
    "bool intersects (double x11, double y11, double x12, double y12,\n",
    "                 double x21, double y21, double x22, double y22,\n",
    "                 double * xi, double * yi);\n",
    "/* Координаты точек являются логически связанными данными,\n",
    "которые всегда передаются вместе.\n",
    "Аналогично связанны координаты точек отрезка. */"
   ]
  },
  {
   "cell_type": "code",
   "execution_count": 3,
   "metadata": {},
   "outputs": [],
   "source": [
    "// Структуры"
   ]
  },
  {
   "cell_type": "code",
   "execution_count": 4,
   "metadata": {},
   "outputs": [],
   "source": [
    "/* Структуры — это способ синтаксически (и физически)\n",
    "сгруппировать логически связанные данные. */\n",
    "struct Point {\n",
    "    double x;\n",
    "    double y;\n",
    "};\n",
    "struct Segment {\n",
    "    Point p1;\n",
    "    Point p2;\n",
    "};\n",
    "double length(Segment s);\n",
    "bool intersects (Segment s1, Segment s2, Point * p);"
   ]
  },
  {
   "cell_type": "code",
   "execution_count": 5,
   "metadata": {},
   "outputs": [],
   "source": [
    "// \n",
    "/* Работа со структурами\n",
    "Доступ к полям структуры осуществляется через оператор '.': */\n",
    "\n",
    "double length (Segment s) {\n",
    "    double dx = s.p1.x - s.p2.x;\n",
    "    double dy = s.p1.y - s.p2.y;\n",
    "    return sqrt (dx * dx + dy * dy);\n",
    "}\n",
    "\n",
    "//Для указателей на структуры используется оператор ’->’.\n",
    "double length(Segment * s) {\n",
    "    double dx = s->p1.x - s->p2.x;\n",
    "    double dy = s->p1.y - s->p2.y;\n",
    "    return sqrt (dx * dx + dy * dy);\n",
    "}"
   ]
  },
  {
   "cell_type": "code",
   "execution_count": 6,
   "metadata": {},
   "outputs": [],
   "source": [
    "// Инициализация структур\n",
    "// Поля структур можно инициализировать подобно массивам:\n",
    "Point p1 = {0.4, 1.4};\n",
    "Point p2 = {1.2, 6.3};\n",
    "Segment s = {p1 , p2};\n",
    "// Структуры могут хранить переменные разных типов.\n",
    "struct IntArray2D {\n",
    "    size_t a ;\n",
    "    size_t b ;\n",
    "    int ** data ;\n",
    "};\n",
    "IntArray2D a = {n, m, create_array2d (n,m)};"
   ]
  }
 ],
 "metadata": {
  "kernelspec": {
   "display_name": "C++17",
   "language": "C++17",
   "name": "xeus-cling-cpp17"
  },
  "language_info": {
   "codemirror_mode": "text/x-c++src",
   "file_extension": ".cpp",
   "mimetype": "text/x-c++src",
   "name": "c++",
   "version": "-std=c++17"
  }
 },
 "nbformat": 4,
 "nbformat_minor": 2
}
