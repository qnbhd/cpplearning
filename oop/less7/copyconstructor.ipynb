{
 "cells": [
  {
   "cell_type": "code",
   "execution_count": 1,
   "metadata": {},
   "outputs": [],
   "source": [
    "struct IntArray {\n",
    "    ...\n",
    "private:\n",
    "    size_t size_ ;\n",
    "    int * data_ ;\n",
    "};\n",
    "\n",
    "IntArray a1 (10);\n",
    "IntArray a2 (20);\n",
    "IntArray a3 = a1 ; // копирование\n",
    "a2 = a1 ; // присваивание"
   ]
  },
  {
   "cell_type": "code",
   "execution_count": 2,
   "metadata": {},
   "outputs": [],
   "source": [
    "// Если не определить конструктор копирования, то он\n",
    "//сгенерируется компилятором.\n",
    "struct IntArray {\n",
    "    IntArray ( IntArray const & a )\n",
    "        : size_ ( a . size_ ) , data_ (new int [ size_ ])\n",
    "        {\n",
    "            for ( size_t i = 0; i != size_ ; ++ i )\n",
    "            data_ [ i ] = a . data_ [ i ];\n",
    "        }\n",
    "    ...\n",
    "private :\n",
    "    size_t size_ ;\n",
    "    int * data_ ;\n",
    "};"
   ]
  },
  {
   "cell_type": "code",
   "execution_count": 3,
   "metadata": {},
   "outputs": [],
   "source": [
    "// Если не определить оператор присваивания, то он тоже\n",
    "// сгенерируется компилятором.\n",
    "struct IntArray {\n",
    "    IntArray & operator =(IntArray const & a)\n",
    "    {\n",
    "        if (this != & a) {\n",
    "            delete [] data_;\n",
    "            size_ = a.size_;\n",
    "            data_ = new int [size_];\n",
    "            for (size_t i = 0; i != size_; ++i)\n",
    "                data_[i] = a.data_[i]];\n",
    "        }\n",
    "        return * this ;\n",
    "    }\n",
    "    ...\n",
    "};"
   ]
  },
  {
   "cell_type": "code",
   "execution_count": 4,
   "metadata": {},
   "outputs": [],
   "source": [
    "struct IntArray {\n",
    "    void swap ( IntArray & a ) {\n",
    "        size_t const t1 = size_;\n",
    "        size_ = a.size_;\n",
    "        a.size_ = t1;\n",
    "        int * const t2 = data_;\n",
    "        data_ = a.data_;\n",
    "        a.data_ = t2;\n",
    "    }\n",
    "    ...\n",
    "private :\n",
    "    size_t size_;\n",
    "    int * data_;\n",
    "};"
   ]
  },
  {
   "cell_type": "code",
   "execution_count": 5,
   "metadata": {},
   "outputs": [],
   "source": [
    "// \n",
    "struct IntArray {\n",
    "    IntArray ( IntArray const & a )\n",
    "        : size_ (a.size_) , data_ (new int [size_]) {\n",
    "            for (size_t i = 0; i != size_ ; ++i)\n",
    "                data_[i] = a.data_[i];\n",
    "        }\n",
    "    IntArray & operator =(IntArray const & a) {\n",
    "        if (this != & a)\n",
    "            IntArray(a).swap(*this);\n",
    "        return * this;\n",
    "    }\n",
    "    ...\n",
    "private:\n",
    "    size_t size_;\n",
    "    int * data_;\n",
    "};"
   ]
  },
  {
   "cell_type": "code",
   "execution_count": 6,
   "metadata": {},
   "outputs": [],
   "source": [
    "// Для того, чтобы запретить копирование, нужно объявить\n",
    "// конструктор копирования и оператор присваивания как\n",
    "// private и не определять их.\n",
    "struct IntArray {\n",
    "    ...\n",
    "private:\n",
    "    IntArray (IntArray const & a);\n",
    "    IntArray & operator =(IntArray const & a);\n",
    "    size_t size_;\n",
    "    int * data_;\n",
    "};"
   ]
  },
  {
   "cell_type": "code",
   "execution_count": 7,
   "metadata": {},
   "outputs": [],
   "source": [
    "/* \n",
    "Компилятор генерирует четыре метода:\n",
    "1. конструктор по умолчанию,\n",
    "2. конструктор копирования,\n",
    "3. оператор присваивания,\n",
    "4. деструктор.\n",
    "Если потребовалось переопределить конструктор копирования,\n",
    "оператор присваивания или деструктор, то нужно\n",
    "переопределить и остальные методы из этого списка.\n",
    "*/"
   ]
  }
 ],
 "metadata": {
  "kernelspec": {
   "display_name": "C++17",
   "language": "C++17",
   "name": "xeus-cling-cpp17"
  },
  "language_info": {
   "codemirror_mode": "text/x-c++src",
   "file_extension": ".cpp",
   "mimetype": "text/x-c++src",
   "name": "c++",
   "version": "-std=c++17"
  }
 },
 "nbformat": 4,
 "nbformat_minor": 2
}
