{
 "cells": [
  {
   "cell_type": "code",
   "execution_count": 1,
   "metadata": {},
   "outputs": [],
   "source": [
    "#include <iostream>\n",
    "#define endl \"\\n\"\n",
    "using namespace std;"
   ]
  },
  {
   "cell_type": "code",
   "execution_count": 2,
   "metadata": {},
   "outputs": [
    {
     "name": "stdout",
     "output_type": "stream",
     "text": [
      "4.96488\n"
     ]
    }
   ],
   "source": [
    "struct Point\n",
    "{\n",
    "    double x;\n",
    "    double y;\n",
    "    void shift (double x , double y) // метод\n",
    "    {\n",
    "        this->x += x;\n",
    "        this->y += y;\n",
    "    }\n",
    "};\n",
    "struct Segment \n",
    "{\n",
    "    Point p1;\n",
    "    Point p2;\n",
    "    double length () \n",
    "    {\n",
    "        double dx = p1.x - p2.x;\n",
    "        double dy = p1.y - p2.y;\n",
    "        return sqrt (dx * dx + dy * dy);\n",
    "    }\n",
    "};\n",
    "\n",
    "Segment s = { { 0.4 , 1.4 } , { 1.2 , 6.3 } };\n",
    "cout << s.length () << endl;"
   ]
  },
  {
   "cell_type": "code",
   "execution_count": 3,
   "metadata": {},
   "outputs": [],
   "source": [
    "// Методы можно разделять на объявление и определение:\n",
    "struct Point\n",
    "{\n",
    "    double x ;\n",
    "    double y ;\n",
    "    void shift (double x, double y);\n",
    "};\n",
    "\n",
    "void Point::shift (double x, double y)\n",
    "{\n",
    "    this->x += x;\n",
    "    this->y += y;\n",
    "}"
   ]
  },
  {
   "cell_type": "code",
   "execution_count": 4,
   "metadata": {},
   "outputs": [],
   "source": [
    "// Использование методов позволяет объединить данные и\n",
    "// функции для работы с ними.\n",
    "struct IntArray2D \n",
    "{\n",
    "    int & get (size_t i , size_t j) \n",
    "    {\n",
    "        return data[i * b + j];\n",
    "    }\n",
    "    size_t a;\n",
    "    size_t b;\n",
    "    int * data;\n",
    "};"
   ]
  }
 ],
 "metadata": {
  "kernelspec": {
   "display_name": "C++17",
   "language": "C++17",
   "name": "xeus-cling-cpp17"
  },
  "language_info": {
   "codemirror_mode": "text/x-c++src",
   "file_extension": ".cpp",
   "mimetype": "text/x-c++src",
   "name": "c++",
   "version": "-std=c++17"
  }
 },
 "nbformat": 4,
 "nbformat_minor": 2
}
