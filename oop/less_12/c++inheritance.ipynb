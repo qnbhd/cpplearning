{
 "cells": [
  {
   "cell_type": "code",
   "execution_count": 1,
   "metadata": {},
   "outputs": [],
   "source": [
    "// При наследовании можно использовать модификаторы доступа:\n",
    "struct A {};\n",
    "struct B1 : public A {};\n",
    "struct B2 : private A {};\n",
    "struct B3 : protected A {};\n",
    "Для классов, объявленных как struct, по-умолчанию\n",
    "используется public, для объявленных как class — private.\n",
    "Важно: отношение наследования (в терминах ООП) задаётся\n",
    "только public-наследованием.\n",
    "Использование private- и protected-наследований\n",
    "целесообразно, если необходимо не только агрегировать другой\n",
    "класс, но и переопределить его виртуальные методы"
   ]
  },
  {
   "cell_type": "code",
   "execution_count": 2,
   "metadata": {},
   "outputs": [],
   "source": [
    "struct NetworkDevice {\n",
    "    void send ( void * data , size_t size ) {\n",
    "    log ( \" start sending \" );\n",
    "    send_impl ( data , size );\n",
    "    log ( \" stop sending \" );\n",
    "    }\n",
    "    ...\n",
    "private :\n",
    "    virtual void send_impl ( void * data , size_t size )\n",
    "    {...}\n",
    "};\n",
    "struct Router : NetworkDevice {\n",
    "private :\n",
    "    void send_impl ( void * data , size_t size ) {...}\n",
    "};"
   ]
  },
  {
   "cell_type": "code",
   "execution_count": 3,
   "metadata": {},
   "outputs": [],
   "source": [
    "// Чистые виртуальные методы могут иметь определения:\n",
    "struct NetworkDevice {\n",
    "    virtual void send ( void * data , size_t size ) = 0;\n",
    "    ...\n",
    "    };\n",
    "    void NetworkDevice :: send ( void * data , size_t size ) {\n",
    "    ...\n",
    "    }\n",
    "    struct Router : NetworkDevice {\n",
    "private :\n",
    "    void send ( void * data , size_t size ) {\n",
    "    // невиртуальный вызов\n",
    "    NetworkDevice :: send ( data , size );\n",
    "    }\n",
    "};"
   ]
  },
  {
   "cell_type": "code",
   "execution_count": 4,
   "metadata": {},
   "outputs": [],
   "source": [
    "// Интерфейс — это абстрактный класс, у которого отсутствуют\n",
    "// поля, а все методы являются чистыми виртуальными.\n",
    "struct IConvertibleToString {\n",
    "    virtual ~ IConvertibleToString () {}\n",
    "    virtual string toString () const = 0;\n",
    "};\n",
    "struct IClonable {\n",
    "    virtual ~ IClonable () {}\n",
    "    virtual IClonable * clone () const = 0;\n",
    "};\n",
    "struct Person : IClonable {\n",
    "    Person * clone () { return new Person (* this );}\n",
    "};"
   ]
  },
  {
   "cell_type": "code",
   "execution_count": 5,
   "metadata": {},
   "outputs": [],
   "source": [
    "// В C++ разрешено множественное наследование.\n",
    "struct Person {};\n",
    "struct Student : Person {};\n",
    "struct Worker : Person {};\n",
    "struct WorkingStudent : Student , Worker {};\n",
    "// Стоит избегать наследования реализаций более чем от одного\n",
    "// класса, вместо этого использовать интерфейсы.\n",
    "struct IWorker {};\n",
    "struct Worker : Person , IWorker {};\n",
    "struct Student : Person {};\n",
    "struct WorkingStudent : Student , IWorker {}\n",
    "Множественное наследование — это отдельная большая тема"
   ]
  }
 ],
 "metadata": {
  "kernelspec": {
   "display_name": "C++17",
   "language": "C++17",
   "name": "xeus-cling-cpp17"
  },
  "language_info": {
   "codemirror_mode": "text/x-c++src",
   "file_extension": ".cpp",
   "mimetype": "text/x-c++src",
   "name": "c++",
   "version": "-std=c++17"
  }
 },
 "nbformat": 4,
 "nbformat_minor": 2
}
