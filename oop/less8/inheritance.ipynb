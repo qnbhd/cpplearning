{
 "cells": [
  {
   "cell_type": "code",
   "execution_count": 1,
   "metadata": {},
   "outputs": [],
   "source": [
    "// Наследование — это механизм, позволяющий создавать\n",
    "// производные классы, расширяя уже существующие.\n",
    "struct Person {\n",
    "    string name () const { return name_; }\n",
    "    int age () const { return age_; }\n",
    "private:\n",
    "    string name_;\n",
    "    int age_;\n",
    "    };\n",
    "\n",
    "struct Student : Person {\n",
    "    string university () const { return uni_; }\n",
    "private:\n",
    "    string uni_;\n",
    "};\n",
    "/* У объектов класса-наследника можно вызывать публичные\n",
    "методы родительского класса.*/\n",
    "Student s;\n",
    "cout << s.name () << endl\n",
    "     << s.age() << endl\n",
    "     << s.university () << endl;\n",
    "// Внутри объекта класса-наследника хранится экземпляр\n",
    "// родительского класса."
   ]
  },
  {
   "cell_type": "code",
   "execution_count": 2,
   "metadata": {},
   "outputs": [],
   "source": [
    "// При создании объекта производного класса сначала\n",
    "// вызывается конструктор родительского класса.\n",
    "struct Person {\n",
    "    Person ( string name , int age )\n",
    "            : name_ ( name ) , age_ ( age )\n",
    "    {}\n",
    "    ...\n",
    "    };\n",
    "\n",
    "struct Student : Person {\n",
    "    Student ( string name , int age , string uni )\n",
    "            : Person ( name , age ) , uni_ ( uni )\n",
    "    {}\n",
    "    ...\n",
    "};\n",
    "// После деструктора Student вызывается деструктор Person. "
   ]
  },
  {
   "cell_type": "code",
   "execution_count": 3,
   "metadata": {},
   "outputs": [],
   "source": [
    "// Для производных классов определены следующие приведения:\n",
    "Student s ( \"Alex\" , 21 , \"Oxford\" );\n",
    "Person & l = s; // Student & -> Person &\n",
    "Person * r = &s ; // Student * -> Person *\n",
    "/* Поэтому объекты класса-наследника могут присваиваться\n",
    "объектам родительского класса: */\n",
    "Student s ( \" Alex \" , 21 , \" Oxford \" );\n",
    "Person p = s ; // Person(\"Alex\", 21);\n",
    "/* При этом копируются только поля класса-родителя (срезка).\n",
    "(Т.е. в данном случае вызывается конструктор копирования\n",
    "Person(Person const& p), который не знает про uni_.) */"
   ]
  },
  {
   "cell_type": "code",
   "execution_count": 4,
   "metadata": {},
   "outputs": [],
   "source": [
    "// ∙ Класс-наследник не имеет доступа к private-членам\n",
    "// родительского класса.\n",
    "// ∙ Для определения закрытых членов класса доступных\n",
    "// наследникам используется модификатор protected.\n",
    "struct Person {\n",
    "    ...\n",
    "protected :\n",
    "    string name_ ;\n",
    "    int age_ ;\n",
    "    };\n",
    "\n",
    "struct Student : Person {\n",
    "    ... // можно менять поля name_ и age_\n",
    "};"
   ]
  }
 ],
 "metadata": {
  "kernelspec": {
   "display_name": "C++17",
   "language": "C++17",
   "name": "xeus-cling-cpp17"
  },
  "language_info": {
   "codemirror_mode": "text/x-c++src",
   "file_extension": ".cpp",
   "mimetype": "text/x-c++src",
   "name": "c++",
   "version": "-std=c++17"
  }
 },
 "nbformat": 4,
 "nbformat_minor": 2
}
