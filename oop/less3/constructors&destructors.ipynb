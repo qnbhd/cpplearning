{
 "cells": [
  {
   "cell_type": "code",
   "execution_count": 1,
   "metadata": {},
   "outputs": [],
   "source": [
    "#include <iostream>\n",
    "#define endl \"\\n\"\n",
    "using namespace std;"
   ]
  },
  {
   "cell_type": "code",
   "execution_count": 2,
   "metadata": {},
   "outputs": [],
   "source": [
    "// Конструкторы — это методы для инициализации структур.\n",
    "struct Point \n",
    "{\n",
    "    Point () \n",
    "    {\n",
    "        x = y = 0;\n",
    "    }\n",
    "    Point (double x, double y) {\n",
    "        this->x = x;\n",
    "        this->y = y;\n",
    "    }\n",
    "    double x;\n",
    "    double y;\n",
    "};\n",
    "\n",
    "Point p1;\n",
    "Point p2(3 ,7);"
   ]
  },
  {
   "cell_type": "code",
   "execution_count": 3,
   "metadata": {},
   "outputs": [],
   "source": [
    "// Список инициализации позволяет проинициализировать поля\n",
    "// до входа в конструктор.\n",
    "struct Point {\n",
    "    Point () : x(0), y(0)\n",
    "    {}\n",
    "    Point (double x, double y) : x(x), y(y)\n",
    "    {}\n",
    "    double x;\n",
    "    double y;\n",
    "};\n",
    "/*\n",
    "Инициализации полей в списке инициализации происходит в\n",
    "порядке объявления полей в структуре. \n",
    "*/"
   ]
  },
  {
   "cell_type": "code",
   "execution_count": 4,
   "metadata": {},
   "outputs": [],
   "source": [
    "// ∙ Функции могут иметь значения параметров по умолчанию.\n",
    "// ∙ Значения параметров по умолчанию нужно указывать в\n",
    "//   объявлении функции.\n",
    "\n",
    "struct Point {\n",
    "    Point (double x = 0 , double y = 0) : x(x), y(y)\n",
    "    {}\n",
    "    double x;\n",
    "    double y;\n",
    "};"
   ]
  },
  {
   "cell_type": "code",
   "execution_count": 5,
   "metadata": {},
   "outputs": [],
   "source": [
    "// Конструкторы от одного параметра задают неявное\n",
    "// пользовательское преобразование:\n",
    "struct Segment {\n",
    "    Segment () {}\n",
    "    Segment ( double length ) : p2(length,0)\n",
    "    {}\n",
    "    Point p1;\n",
    "    Point p2;\n",
    "};\n",
    "\n",
    "Segment s1 ;\n",
    "Segment s2 (10);\n",
    "Segment s3 = 20; // неявное преобразование = segment (20) (0,0) (20,0)"
   ]
  },
  {
   "cell_type": "code",
   "execution_count": 6,
   "metadata": {},
   "outputs": [],
   "source": [
    "// Для того, чтобы запретить неявное пользовательское\n",
    "// преобразование, используется ключевое слово explicit.\n",
    "struct Segment {\n",
    "    Segment () {}\n",
    "    explicit Segment (double length) : p2 ( length , 0) /* имеет смысл только для конструктора от одного параметра */\n",
    "    {}\n",
    "    Point p1;\n",
    "    Point p2;\n",
    "};\n",
    "\n",
    "Segment s1 ;\n",
    "Segment s2 (10);\n",
    "Segment s3 = 20; // error"
   ]
  },
  {
   "cell_type": "code",
   "execution_count": 7,
   "metadata": {},
   "outputs": [],
   "source": [
    "// Неявное пользовательское преобразование, задаётся также\n",
    "// конструкторами, которые могут принимать один параметр.\n",
    "struct Point {\n",
    "    explicit Point (double x = 0, double y = 0)\n",
    "    : x(x), y(y)\n",
    "    {}\n",
    "    double x;\n",
    "    double y;\n",
    "};\n",
    "\n",
    "Point p1 ;\n",
    "Point p2 (2);\n",
    "Point p3 (3 ,4);\n",
    "Point p4 = 5; // error"
   ]
  },
  {
   "cell_type": "code",
   "execution_count": 8,
   "metadata": {},
   "outputs": [],
   "source": [
    "// Если у структуры нет конструкторов, то конструктор без\n",
    "// параметров, конструктор по умолчанию, генерируется\n",
    "// компилятором."
   ]
  },
  {
   "cell_type": "code",
   "execution_count": 9,
   "metadata": {},
   "outputs": [],
   "source": [
    "/* “Если что-то похоже на объявление функции, то это и есть\n",
    "объявление функции.” */\n",
    "\n",
    "struct Point {\n",
    "    explicit Point (double x = 0 , double y = 0) : x(x), y(y)\n",
    "    {}\n",
    "    double x;\n",
    "    double y;\n",
    "};\n",
    "\n",
    "Point p1; // определение переменной\n",
    "Point p2 (); // объявление функции\n",
    "double k = 5.1;\n",
    "Point p3 (int(k)); // объявление функции\n",
    "Point p4 ((int)k); // определение переменной"
   ]
  },
  {
   "cell_type": "code",
   "execution_count": 10,
   "metadata": {},
   "outputs": [],
   "source": [
    "// Деструктор — это метод, который вызывается при удалении\n",
    "// структуры, генерируется компилятором.\n",
    "struct IntArray {\n",
    "    explicit IntArray (size_t size): size(size), data(new int[size])\n",
    "    {}\n",
    "    ~IntArray () {\n",
    "        delete [] data ;\n",
    "    }\n",
    "    size_t size ;\n",
    "    int * data ;\n",
    "};"
   ]
  },
  {
   "cell_type": "code",
   "execution_count": null,
   "metadata": {},
   "outputs": [],
   "source": [
    "// Время жизни — это временной интервал между вызовами\n",
    "// конструктора и деструктора.\n",
    "void foo ()\n",
    "{\n",
    "    IntArray a1 (10); // создание a1\n",
    "    IntArray a2 (20); // создание a2\n",
    "    for (size_t i = 0; i != a1.size; ++i) {\n",
    "        IntArray a3 (30); // создание a3\n",
    "    //...\n",
    "    } // удаление a3\n",
    "} // удаление a2, потом a1\n",
    "// Деструкторы переменных на стеке вызываются в обратном\n",
    "// порядке (по отношению к порядку вызова конструкторов)."
   ]
  }
 ],
 "metadata": {
  "kernelspec": {
   "display_name": "C++17",
   "language": "C++17",
   "name": "xeus-cling-cpp17"
  },
  "language_info": {
   "codemirror_mode": "text/x-c++src",
   "file_extension": ".cpp",
   "mimetype": "text/x-c++src",
   "name": "c++",
   "version": "-std=c++17"
  }
 },
 "nbformat": 4,
 "nbformat_minor": 2
}
