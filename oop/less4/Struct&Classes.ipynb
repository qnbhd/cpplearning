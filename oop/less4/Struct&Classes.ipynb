{
 "cells": [
  {
   "cell_type": "code",
   "execution_count": 1,
   "metadata": {},
   "outputs": [],
   "source": [
    "#include <iostream>\n",
    "#define endl \"\\n\"\n",
    "using namespace std;"
   ]
  },
  {
   "cell_type": "code",
   "execution_count": 2,
   "metadata": {},
   "outputs": [],
   "source": [
    "/* ∙ Структуру с методами, конструкторами и деструктором\n",
    "называют классом.\n",
    "∙ Экземпляр (значение) класса называется объектом. */\n",
    "struct IntArray {\n",
    "    explicit IntArray (size_t size);\n",
    "    ~ IntArray ();\n",
    "    int & get (size_t i);\n",
    "    size_t size ;\n",
    "    int * data ;\n",
    "};\n",
    "\n",
    "IntArray a (10);\n",
    "IntArray b = {20 , new int [20]}; // ошибка"
   ]
  },
  {
   "cell_type": "code",
   "execution_count": 3,
   "metadata": {},
   "outputs": [],
   "source": [
    "// Для создания объекта в динамической памяти используется\n",
    "// оператор new, он отвечает за вызов конструктора.\n",
    "struct IntArray {\n",
    "    explicit IntArray (size_t size);\n",
    "    ~ IntArray ();\n",
    "    size_t size;\n",
    "    int * data;\n",
    "};\n",
    "// выделение памяти и создание объекта\n",
    "IntArray * pa = new IntArray(10);\n",
    "// только выделение памяти\n",
    "IntArray * pb = (IntArray *) malloc(sizeof(IntArray));"
   ]
  },
  {
   "cell_type": "code",
   "execution_count": 4,
   "metadata": {},
   "outputs": [],
   "source": [
    "// При вызове оператора delete вызывается деструктор объекта.\n",
    "// выделение памяти и создание объекта\n",
    "IntArray * pa = new IntArray (10);\n",
    "// вызов деструктора и освобождение памяти\n",
    "delete pa;\n",
    "// Операторы new [] и delete [] работают аналогично\n",
    "// выделение памяти и создание 10 объектов\n",
    "// (вызывается конструктор по умолчанию)\n",
    "IntArray * pa = new IntArray [10];\n",
    "// вызов деструкторов и освобождение памяти\n",
    "delete [] pa ;"
   ]
  },
  {
   "cell_type": "code",
   "execution_count": 6,
   "metadata": {},
   "outputs": [],
   "source": [
    "// выделение памяти myalloc, myfree - наши функции\n",
    "void * p = myalloc (sizeof(IntArray));\n",
    "// создание объекта по адресу p\n",
    "IntArray * a = new (p) IntArray (10); // особая форма с размещением (вызывает конструктор по адресу p)\n",
    "// явный вызов деструктора\n",
    "a->~IntArray(); \n",
    "// освобождение памяти\n",
    "myfree(p);\n",
    "// Проблемы с выравниванием: \n",
    "// в разных ОС могут накладываться какие-либо ограничения на память (например указатели, номер которых делится на 4)\n",
    "// использование на невыровненной памяти\n",
    "char b [ sizeof ( IntArray )];\n",
    "new (b) IntArray (20); // потенциальная проблема"
   ]
  }
 ],
 "metadata": {
  "kernelspec": {
   "display_name": "C++17",
   "language": "C++17",
   "name": "xeus-cling-cpp17"
  },
  "language_info": {
   "codemirror_mode": "text/x-c++src",
   "file_extension": ".cpp",
   "mimetype": "text/x-c++src",
   "name": "c++",
   "version": "-std=c++17"
  }
 },
 "nbformat": 4,
 "nbformat_minor": 2
}
