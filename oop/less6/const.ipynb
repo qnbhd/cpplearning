{
 "cells": [
  {
   "cell_type": "code",
   "execution_count": 1,
   "metadata": {},
   "outputs": [],
   "source": [
    "// ∙ Ключевое слово const позволяет определять\n",
    "// типизированные константы.\n",
    "double const pi = 3.1415926535;\n",
    "int const day_seconds = 24 * 60 * 60;\n",
    "// массив констант\n",
    "int const days [12] = {31 , 28 , 31 ,\n",
    "30 , 31 , 30 ,\n",
    "31 , 31 , 30 ,\n",
    "31 , 30 , 31};\n",
    "/* ∙ Попытка изменить константные данные приводит к\n",
    "неопределённому поведению. */\n",
    "int * may = (int *) & days [4];\n",
    "* may = 30;"
   ]
  },
  {
   "cell_type": "code",
   "execution_count": 2,
   "metadata": {},
   "outputs": [],
   "source": [
    "// В C++ можно определить как константный указатель, так и\n",
    "// указатель на константу:\n",
    "int a = 10;\n",
    "const int * p1 = & a ; // указатель на константу\n",
    "int const * p2 = & a ; // указатель на константу\n",
    "* p1 = 20; // ошибка\n",
    "p2 = 0; // ОК\n",
    "int * const p3 = & a ; // константный указатель\n",
    "* p3 = 30; // OK\n",
    "p3 = 0; // ошибка\n",
    "// константный указатель на константу\n",
    "int const * const p4 = & a ;\n",
    "* p4 = 30; // ошибка\n",
    "p4 = 0; // ошибка"
   ]
  },
  {
   "cell_type": "code",
   "execution_count": 3,
   "metadata": {},
   "outputs": [],
   "source": [
    "// Можно использовать следующее правило:\n",
    "// “слово const делает неизменяемым тип слева от него”.\n",
    "int a = 10;\n",
    "int * p = & a ;\n",
    "// указатель на указатель на const int\n",
    "int const ** p1 = & p ;\n",
    "// указатель на константный указатель на int\n",
    "int * const * p2 = & p ;\n",
    "// константный указатель на у"
   ]
  },
  {
   "cell_type": "code",
   "execution_count": 4,
   "metadata": {},
   "outputs": [],
   "source": [
    "// ∙ Ссылка сама по себе является неизменяемой.\n",
    "int a = 10;\n",
    "int & const b = a; // ошибка\n",
    "int const & c = a; // ссылка на константу\n",
    "// ∙ Использование константных ссылок позволяет избежать\n",
    "//копирования объектов при передаче в функцию.\n",
    "Point midpoint ( Segment const & s );\n",
    "// ∙ По константной ссылке можно передавать rvalue.\n",
    "Point p = midpoint ( Segment ( Point (0 ,0) ,\n",
    "Point (1 ,1)));"
   ]
  },
  {
   "cell_type": "code",
   "execution_count": 5,
   "metadata": {},
   "outputs": [],
   "source": [
    "// ∙ Методы классов могут быть объявлены как const.\n",
    "struct IntArray {\n",
    "    size_t size () const ;\n",
    "};\n",
    "/* ∙ Такие методы не могут менять поля объекта\n",
    "(тип this — указатель на const).\n",
    "∙ У константных объектов (через указатель или ссылку на\n",
    "константу) можно вызывать только константные методы: */\n",
    "IntArray const * p = foo ();\n",
    "p->resize(); // ошибка\n",
    "// ∙ Внутри константных методов можно вызывать только\n",
    "// константные методы. "
   ]
  },
  {
   "cell_type": "code",
   "execution_count": 6,
   "metadata": {},
   "outputs": [],
   "source": [
    "// ∙ Слово const является частью сигнатуры метода.\n",
    "size_t IntArray :: size () const { return size_ ;}\n",
    "// ∙ Можно определить две версии одного метода:\n",
    "struct IntArray {\n",
    "    int get (size_t i) const {\n",
    "        return data_[i];\n",
    "    }\n",
    "    int & get (size_t i) {\n",
    "        return data_ [i];\n",
    "    }\n",
    "private:\n",
    "        size_t size_;\n",
    "        int * data_;\n",
    "};"
   ]
  },
  {
   "cell_type": "code",
   "execution_count": 7,
   "metadata": {},
   "outputs": [],
   "source": [
    "// ∙ Синтаксическая константность: константные методы не\n",
    "// могут менять поля (обеспечивается компилятором).\n",
    "// ∙ Логическая константность — нельзя менять те данные,\n",
    "// которые определяют состояние объекта.\n",
    "struct IntArray {\n",
    "    void foo () const {\n",
    "        // нарушение логической константности\n",
    "        data_ [10] = 1;\n",
    "    }\n",
    "private :\n",
    "    size_t size_;\n",
    "    int * data_;\n",
    "};"
   ]
  },
  {
   "cell_type": "code",
   "execution_count": 8,
   "metadata": {},
   "outputs": [],
   "source": [
    "// Ключевое слово mutable позволяет определять поля, которые\n",
    "можно изменять внутри константных методов:\n",
    "struct IntArray {\n",
    "    size_t size () const {\n",
    "    ++counter_;\n",
    "    return size_;\n",
    "    }\n",
    "private:\n",
    "    size_t size_;\n",
    "    int * data_;\n",
    "    mutable size_t counter_;\n",
    "};"
   ]
  },
  {
   "cell_type": "code",
   "execution_count": 9,
   "metadata": {},
   "outputs": [],
   "source": [
    "//"
   ]
  }
 ],
 "metadata": {
  "kernelspec": {
   "display_name": "C++17",
   "language": "C++17",
   "name": "xeus-cling-cpp17"
  },
  "language_info": {
   "codemirror_mode": "text/x-c++src",
   "file_extension": ".cpp",
   "mimetype": "text/x-c++src",
   "name": "c++",
   "version": "-std=c++17"
  }
 },
 "nbformat": 4,
 "nbformat_minor": 2
}
