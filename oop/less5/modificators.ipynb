{
 "cells": [
  {
   "cell_type": "code",
   "execution_count": 1,
   "metadata": {},
   "outputs": [],
   "source": [
    "// Модификаторы доступа позволяют ограничивать доступ к\n",
    "// методам и полям класса.\n",
    "struct IntArray \n",
    "{\n",
    "    explicit IntArray ( size_t size )\n",
    "    : size_ ( size ) , data_ (new int[ size ])\n",
    "    {}\n",
    "    ~ IntArray () { delete [] data_ ; }\n",
    "    int & get ( size_t i) { return data_ [ i ]; }\n",
    "    size_t size () { return size_ ; }\n",
    "private :\n",
    "    size_t size_ ;\n",
    "    int * data_ ;\n",
    "};"
   ]
  },
  {
   "cell_type": "code",
   "execution_count": 2,
   "metadata": {},
   "outputs": [],
   "source": [
    "// Ключевое слово struct можно заменить на class, тогда поля\n",
    "// и методы по умолчанию будут private.\n",
    "class IntArray \n",
    "{\n",
    "public :\n",
    "    explicit IntArray (size_t size)\n",
    "            : size_(size), data_(new int[size])\n",
    "    {}\n",
    "    ~IntArray () { delete [] data_; }\n",
    "    int & get (size_t i) { return data_[i]; }\n",
    "    size_t size () { return size_; }\n",
    "private :\n",
    "    size_t size_;\n",
    "    int * data_;\n",
    "};"
   ]
  },
  {
   "cell_type": "code",
   "execution_count": 3,
   "metadata": {},
   "outputs": [],
   "source": [
    "// ∙ Выделение публичного интерфейса позволяет\n",
    "// поддерживать инварианты класса\n",
    "//(сохранять данные объекта в согласованном состоянии).\n",
    "struct IntArray {\n",
    "    //...\n",
    "    size_t size_ ;\n",
    "    int * data_ ; // массив размера size_\n",
    "};\n",
    "/*\n",
    "∙ Для сохранения инвариантов класса:\n",
    "1. все поля должны быть закрытыми,\n",
    "2. публичные методы должны сохранять инварианты класса.\n",
    "∙ Закрытие полей класса позволяет абстрагироваться от\n",
    "способа хранения данных объекта.\n",
    "*/"
   ]
  },
  {
   "cell_type": "code",
   "execution_count": 4,
   "metadata": {},
   "outputs": [],
   "source": [
    "// Публичный интерфейс\n",
    "struct IntArray {\n",
    "    //...\n",
    "    void resize (size_t nsize) \n",
    "    {\n",
    "        int * ndata = new int [ nsize ];\n",
    "        size_t n = nsize > size_ ? size_ : nsize;\n",
    "        for (size_t i = 0; i != n ; ++ i)\n",
    "            ndata [i] = data_ [i];\n",
    "        delete [] data_;\n",
    "        data_ = ndata;\n",
    "        size_ = nsize;\n",
    "    }\n",
    "private :\n",
    "    size_t size_ ;\n",
    "    int * data_ ;\n",
    "};"
   ]
  },
  {
   "cell_type": "code",
   "execution_count": 5,
   "metadata": {},
   "outputs": [],
   "source": [
    "// Абстракция\n",
    "struct IntArray {\n",
    "public :\n",
    "    explicit IntArray (size_t size)\n",
    "            : size_(size), data_(new int[size])\n",
    "    {}\n",
    "    ~IntArray () { delete [] data_; }\n",
    "    int & get (size_t i) { return data_ [i]; }\n",
    "    size_t size () { return size_; }\n",
    "private :\n",
    "    size_t size_;\n",
    "    int * data_;\n",
    "};"
   ]
  },
  {
   "cell_type": "code",
   "execution_count": 6,
   "metadata": {},
   "outputs": [],
   "source": [
    "// модификация\n",
    "struct IntArray {\n",
    "public :\n",
    "    explicit IntArray ( size_t size )\n",
    "            : data_ (new int [ size + 1])\n",
    "    {\n",
    "        data_ [0] = size ;\n",
    "    }\n",
    "    ~ IntArray () { delete [] data_; }\n",
    "    int & get (size_t i) { return data_ [i + 1]; }\n",
    "    size_t size () { return data_[0]; }\n",
    "private :\n",
    "    int * data_;\n",
    "};"
   ]
  }
 ],
 "metadata": {
  "kernelspec": {
   "display_name": "C++17",
   "language": "C++17",
   "name": "xeus-cling-cpp17"
  },
  "language_info": {
   "codemirror_mode": "text/x-c++src",
   "file_extension": ".cpp",
   "mimetype": "text/x-c++src",
   "name": "c++",
   "version": "-std=c++17"
  }
 },
 "nbformat": 4,
 "nbformat_minor": 2
}
