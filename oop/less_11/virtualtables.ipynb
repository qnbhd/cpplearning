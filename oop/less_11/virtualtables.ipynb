{
 "cells": [
  {
   "cell_type": "code",
   "execution_count": 1,
   "metadata": {},
   "outputs": [],
   "source": [
    "/* ∙ Динамический полиморфизм реализуется при помощи\n",
    "таблиц виртуальных методов.\n",
    "∙ Таблица заводится для каждого полиморфного класса.\n",
    "∙ Объекты полиморфных классов содержат указатель на\n",
    "таблицу виртуальных методов соответствующего класса.\n",
    "∙ Вызов виртуального метода — это вызов метода по адресу\n",
    "из таблицы (в коде сохраняется номер метода в таблице).*/\n",
    "p->occupation (); // p->vptr[1](); "
   ]
  },
  {
   "cell_type": "code",
   "execution_count": 2,
   "metadata": {},
   "outputs": [],
   "source": [
    "// struct Person {\n",
    "virtual ~ Person () {}\n",
    "    string name () const { return name_ ;}\n",
    "    virtual string occupation () const = 0;\n",
    "    ...\n",
    "};\n",
    "struct Student : Person {\n",
    "    string occupation () const { return \" student \" ;}\n",
    "    virtual int group () const { return group_ ;}\n",
    "    ...\n",
    "};\n",
    "\n",
    "Person\n",
    "    0 ~Person 0xab22\n",
    "    1 occupation 0x0000\n",
    "Student\n",
    "    0 ~Student 0xab46\n",
    "    1 occupation 0xab68\n",
    "    2 group 0xab8a"
   ]
  },
  {
   "cell_type": "code",
   "execution_count": 3,
   "metadata": {},
   "outputs": [],
   "source": [
    "struct Person {\n",
    "    virtual string name () const { return name_ ;}\n",
    "    ...\n",
    "};\n",
    "struct Teacher : Person {\n",
    "    Teacher ( string const & nm ) : Person ( nm )\n",
    "    { cout << name (); }\n",
    "    ...\n",
    "};\n",
    "struct Professor : Teacher {\n",
    "    string name () const { return \" Prof . \" + name_ ;}\n",
    "    ...\n",
    "};\n",
    "Professor p(\"Stroustrup\"); // \"Stroustrup"
   ]
  }
 ],
 "metadata": {
  "kernelspec": {
   "display_name": "C++17",
   "language": "C++17",
   "name": "xeus-cling-cpp17"
  },
  "language_info": {
   "codemirror_mode": "text/x-c++src",
   "file_extension": ".cpp",
   "mimetype": "text/x-c++src",
   "name": "c++",
   "version": "-std=c++17"
  }
 },
 "nbformat": 4,
 "nbformat_minor": 2
}
