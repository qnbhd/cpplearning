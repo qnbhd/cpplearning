{
 "cells": [
  {
   "cell_type": "code",
   "execution_count": 1,
   "metadata": {},
   "outputs": [],
   "source": [
    "// В отличие от C в C++ можно определить несколько функций с\n",
    "// одинаковым именем, но разными параметрами.\n",
    "double square ( double d ) { return d * d ; }\n",
    "int square (int i ) { return i * i ; }\n",
    "// При вызове функции по имени будет произведен поиск\n",
    "// наиболее подходящей функции:\n",
    "int a = square (4); // square(int)\n",
    "double b = square (3.14); // square(double)\n",
    "double c = square (5); // square(int)\n",
    "int d = square (b); // square(double)\n",
    "float e = square (2.71f); // square(double)"
   ]
  },
  {
   "cell_type": "code",
   "execution_count": 2,
   "metadata": {},
   "outputs": [],
   "source": [
    "// \n",
    "struct Vector2D {\n",
    "    Vector2D ( double x , double y ) \n",
    "        : x (x), y(y) \n",
    "    {}\n",
    "    Vector2D mult (double d) const \n",
    "        { return Vector2D (x * d, y * d); }\n",
    "    double mult ( Vector2D const & p ) const\n",
    "        { return x * p.x + y * p.y ; }\n",
    "    double x, y;\n",
    "};\n",
    "\n",
    "\n",
    "Vector2D p (1, 2);\n",
    "Vector2D q = p.mult (10); // (10, 20)\n",
    "double r = p.mult (q); // 50\n",
    "\n"
   ]
  },
  {
   "cell_type": "code",
   "execution_count": 3,
   "metadata": {},
   "outputs": [],
   "source": [
    "struct File {\n",
    "    void write ( char const * s );\n",
    "    ...\n",
    "};\n",
    "\n",
    "struct FormattedFile : File {\n",
    "    void write (int i );\n",
    "    void write ( double d );\n",
    "    using File :: write ;\n",
    "    ...\n",
    "};\n",
    "\n",
    "FormattedFile f ;\n",
    "f.write (4);\n",
    "f.write (\"Hello\");"
   ]
  },
  {
   "cell_type": "code",
   "execution_count": 4,
   "metadata": {},
   "outputs": [],
   "source": [
    "/* \n",
    "1. Если есть точное совпадение, то используется оно.\n",
    "2. Если нет функции, которая могла бы подойти с учётом\n",
    "преобразований, выдаётся ошибка.\n",
    "3. Есть функции, подходящие с учётом преобразований:\n",
    "    3.1 Расширение типов.\n",
    "    char, signed char, short → int\n",
    "    unsigned char, unsigned short → int/unsigned int\n",
    "    float → double\n",
    "    3.2 Стандартные преобразования (числа, указатели).\n",
    "    3.3 Пользовательские преобразования.\n",
    "В случае нескольких параметров нужно, чтобы выбранная\n",
    "функция была строго лучше остальных.\n",
    "NB: перегрузка выполняется на этапе компиляции. \n",
    "*/"
   ]
  }
 ],
 "metadata": {
  "kernelspec": {
   "display_name": "C++17",
   "language": "C++17",
   "name": "xeus-cling-cpp17"
  },
  "language_info": {
   "codemirror_mode": "text/x-c++src",
   "file_extension": ".cpp",
   "mimetype": "text/x-c++src",
   "name": "c++",
   "version": "-std=c++17"
  }
 },
 "nbformat": 4,
 "nbformat_minor": 2
}
