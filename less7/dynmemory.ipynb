{
 "cells": [
  {
   "cell_type": "code",
   "execution_count": 1,
   "metadata": {},
   "outputs": [],
   "source": [
    "#include <iostream>\n",
    "#define endl \"\\n\"\n",
    "using namespace std;"
   ]
  },
  {
   "cell_type": "code",
   "execution_count": 2,
   "metadata": {},
   "outputs": [],
   "source": [
    "/* Зачем нужна динамическая память?\n",
    "∙ Стек программы ограничен. Он не предназначен для\n",
    "хранения больших объемов данных. */"
   ]
  },
  {
   "cell_type": "code",
   "execution_count": 3,
   "metadata": {},
   "outputs": [],
   "source": [
    "// для того чтобы узнать размер стека на вашей ОС:"
   ]
  },
  {
   "cell_type": "code",
   "execution_count": 4,
   "metadata": {},
   "outputs": [
    {
     "name": "stdout",
     "output_type": "stream",
     "text": [
      "8192\n"
     ]
    }
   ],
   "source": [
    "!ulimit -s"
   ]
  },
  {
   "cell_type": "code",
   "execution_count": 5,
   "metadata": {},
   "outputs": [],
   "source": [
    "// соответственно, существует предел, когда уже массив определенного размера не помещается в стек\n",
    "// на моей ОС, однако, переполнение осуществлялось при создании массива примерно на сотню килобайт больше\n",
    "// заявленных 8192"
   ]
  },
  {
   "cell_type": "code",
   "execution_count": 6,
   "metadata": {},
   "outputs": [],
   "source": [
    "/* Время жизни локальных переменных ограничено временем\n",
    "работы функции.\n",
    "∙ Динамическая память выделяется в сегменте данных.\n",
    "∙ Структура, отвечающая за выделение дополнительной\n",
    "памяти, называется кучей (не нужно путать с\n",
    "одноимённой структурой данных).\n",
    "∙ Выделение и освобождение памяти управляется вручную. */"
   ]
  },
  {
   "cell_type": "code",
   "execution_count": 9,
   "metadata": {},
   "outputs": [],
   "source": [
    "// размер сегмента данных равен:"
   ]
  },
  {
   "cell_type": "code",
   "execution_count": 10,
   "metadata": {},
   "outputs": [
    {
     "name": "stdout",
     "output_type": "stream",
     "text": [
      "unlimited\n"
     ]
    }
   ],
   "source": [
    "!ulimit -d"
   ]
  },
  {
   "cell_type": "code",
   "execution_count": 11,
   "metadata": {},
   "outputs": [],
   "source": [
    "// что означает, что размер сегмента данных может расти \"неограниченно\" \n",
    "// пока не крэшнется вся ОС, конечно :) "
   ]
  },
  {
   "cell_type": "code",
   "execution_count": null,
   "metadata": {},
   "outputs": [],
   "source": [
    "// выделение памяти в стиле C"
   ]
  },
  {
   "cell_type": "code",
   "execution_count": 7,
   "metadata": {},
   "outputs": [],
   "source": [
    "/* ∙ Стандартная библиотека cstdlib предоставляет четыре\n",
    "функции для управления памятью: */\n",
    "void * malloc ( size_t size );\n",
    "void free ( void * ptr );\n",
    "void * calloc ( size_t nmemb , size_t size );\n",
    "void * realloc ( void * ptr , size_t size );"
   ]
  },
  {
   "cell_type": "code",
   "execution_count": 8,
   "metadata": {},
   "outputs": [],
   "source": [
    "/* ∙ malloc — выделяет область памяти размера ≥ size. тип возвращаемого значения void *\n",
    "- возвращается чуть больше [удобно округлять до числа, кратного, например, 16]\n",
    "- указатель начала куска памяти расположен немного \"правее\", левее зарезервировано место для служебных данных:\n",
    "размер куска памяти, например функция free() - она не требует размера выделенной памяти, а только указатель\n",
    "- Данные не инициализируются.\n",
    "∙ calloc — выделяет массив из nmemb размера size.\n",
    "Данные инициализируются нулём.\n",
    "∙ realloc — изменяет размер области памяти по указателю\n",
    "ptr на size (если возможно, то это делается на месте).\n",
    "∙ free — освобождает область памяти, ранее выделенную\n",
    "одной из функций malloc/calloc/realloc. */"
   ]
  },
  {
   "cell_type": "code",
   "execution_count": 13,
   "metadata": {},
   "outputs": [],
   "source": [
    "// создание массива из 1000 int\n",
    "int * m = (int *) malloc (1000 * sizeof (int));\n",
    "m[10] = 10;\n",
    "// изменение размера массива до 2000\n",
    "m = (int *) realloc (m, 2000 * sizeof (int));\n",
    "// освобождение массива\n",
    "free(m);\n",
    "// создание массива нулей\n",
    "m = (int *) calloc (3000 , sizeof (int));\n",
    "free (m);\n",
    "m = 0;"
   ]
  },
  {
   "cell_type": "code",
   "execution_count": 14,
   "metadata": {},
   "outputs": [],
   "source": [
    "// выделение памяти в стиле C++"
   ]
  },
  {
   "cell_type": "code",
   "execution_count": 17,
   "metadata": {},
   "outputs": [],
   "source": [
    "// ∙ Язык C++ предоставляет два набора операторов для\n",
    "// выделения памяти:\n",
    "// 1. new и delete — для одиночных значений,\n",
    "// 2. new [] и delete [] — для массивов.\n",
    "//∙ Версия оператора delete должна соответствовать версии оператора new.\n",
    "// выделение памяти под один int со значением 5\n",
    "int * q = new int (5);\n",
    "delete q; // освобождение памяти\n",
    "// создание массива значений типа int\n",
    "q = new int [1000];\n",
    "delete [] q; // освобождение памяти"
   ]
  },
  {
   "cell_type": "code",
   "execution_count": 20,
   "metadata": {},
   "outputs": [],
   "source": [
    "/* Проблемы производительности: создание переменной на\n",
    "стеке намного “дешевле” выделения для неё динамической\n",
    "памяти.\n",
    "∙ Проблема фрагментации: выделение большого количества\n",
    "небольших сегментов способствует фрагментации памяти.\n",
    "∙ Утечки памяти: */\n",
    "// создание массива из 1000 int\n",
    "int * x = new int [1000];\n",
    "// создание массива из 2000 int\n",
    "x = new int [2000]; // утечка памяти\n",
    "// Не вызван delete [] m, утечка памяти"
   ]
  },
  {
   "cell_type": "code",
   "execution_count": 21,
   "metadata": {},
   "outputs": [],
   "source": [
    "// ∙ Неправильное освобождение памяти.\n",
    "int * m1 = new int [1000];\n",
    "delete m1; // должно быть delete [] m1 (undefined behaviour)\n",
    "int * p = new int (0);\n",
    "free (p); // совмещение функций C++ и C (undefined behaviour)\n",
    "int * q1 = (int *) malloc (sizeof (int));\n",
    "free (q1);\n",
    "free (q1); // двойное удаление\n",
    "int * q2 = (int *) malloc (sizeof (int));\n",
    "free (q2);\n",
    "q2 = 0; // обнуляем указатель\n",
    "free (q2); // правильно работает для q2 = 0"
   ]
  },
  {
   "cell_type": "code",
   "execution_count": 22,
   "metadata": {},
   "outputs": [],
   "source": [
    "// пример создания функции resize\n",
    "char * resize(const char * str, unsigned size, unsigned new_size)\n",
    "{\n",
    "    char * newarea = new char [new_size];\n",
    "    unsigned limit = (size > new_size) ? new_size : size;\n",
    "\n",
    "    for (unsigned iter = 0; iter < limit; ++iter) {\n",
    "            newarea[iter] = str[iter];\n",
    "    }\n",
    "\n",
    "    delete [] str;\n",
    "    return newarea;\n",
    "}"
   ]
  }
 ],
 "metadata": {
  "kernelspec": {
   "display_name": "C++17",
   "language": "C++17",
   "name": "xeus-cling-cpp17"
  },
  "language_info": {
   "codemirror_mode": "text/x-c++src",
   "file_extension": ".cpp",
   "mimetype": "text/x-c++src",
   "name": "c++",
   "version": "-std=c++17"
  }
 },
 "nbformat": 4,
 "nbformat_minor": 2
}
