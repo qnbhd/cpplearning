{
 "cells": [
  {
   "cell_type": "code",
   "execution_count": 1,
   "metadata": {},
   "outputs": [],
   "source": [
    "//Недостатки указателей"
   ]
  },
  {
   "cell_type": "code",
   "execution_count": 2,
   "metadata": {},
   "outputs": [],
   "source": [
    "/* ∙ Использование указателей синтаксически загрязняет код и\n",
    "усложняет его понимание. (Приходится использовать\n",
    "операторы * и &.)\n",
    "∙ Указатели могут быть неинициализированными\n",
    "(некорректный код).\n",
    "∙ Указатель может быть нулевым (корректный код), а\n",
    "значит указатель нужно проверять на равенство нулю.\n",
    "∙ Арифметика указателей может сделать из корректного\n",
    "указателя некорректный (легко промахнуться) */"
   ]
  },
  {
   "cell_type": "code",
   "execution_count": null,
   "metadata": {},
   "outputs": [],
   "source": []
  }
 ],
 "metadata": {
  "kernelspec": {
   "display_name": "C++17",
   "language": "C++17",
   "name": "xeus-cling-cpp17"
  },
  "language_info": {
   "codemirror_mode": "text/x-c++src",
   "file_extension": ".cpp",
   "mimetype": "text/x-c++src",
   "name": "c++",
   "version": "-std=c++17"
  }
 },
 "nbformat": 4,
 "nbformat_minor": 2
}
