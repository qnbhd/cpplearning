{
 "cells": [
  {
   "cell_type": "code",
   "execution_count": 4,
   "metadata": {},
   "outputs": [],
   "source": [
    "#include <iostream>\n",
    "#define endl \"\\n\"\n",
    "using namespace std;\n",
    "//Недостатки указателей"
   ]
  },
  {
   "cell_type": "code",
   "execution_count": 5,
   "metadata": {},
   "outputs": [],
   "source": [
    "/* ∙ Использование указателей синтаксически загрязняет код и\n",
    "усложняет его понимание. (Приходится использовать\n",
    "операторы * и &.)\n",
    "∙ Указатели могут быть неинициализированными\n",
    "(некорректный код).\n",
    "∙ Указатель может быть нулевым (корректный код), а\n",
    "значит указатель нужно проверять на равенство нулю.\n",
    "∙ Арифметика указателей может сделать из корректного\n",
    "указателя некорректный (легко промахнуться) */"
   ]
  },
  {
   "cell_type": "code",
   "execution_count": 6,
   "metadata": {},
   "outputs": [
    {
     "name": "stdout",
     "output_type": "stream",
     "text": [
      "20 10\n"
     ]
    },
    {
     "data": {
      "text/plain": [
       "@0x7fc269b86400"
      ]
     },
     "execution_count": 6,
     "metadata": {},
     "output_type": "execute_result"
    }
   ],
   "source": [
    "/* ∙ Для того, чтобы исправить некоторые недостатки\n",
    "указателей, в C++ введены ссылки.\n",
    "∙ Ссылки являются “красивой обёрткой” над указателями: */\n",
    "void swap (int &a, int& b) {\n",
    "    int t = b;\n",
    "    b = a;\n",
    "    a = t;\n",
    "}\n",
    "\n",
    "int k = 10, m = 20;\n",
    "swap (k, m);\n",
    "cout << k << ' ' << m << endl; // 20 10\n"
   ]
  },
  {
   "cell_type": "code",
   "execution_count": 7,
   "metadata": {},
   "outputs": [],
   "source": [
    "// ссылка\n",
    "// не может быть неициниализирована\n",
    "int * p; // OK\n",
    "int & l; // ошибка"
   ]
  },
  {
   "cell_type": "code",
   "execution_count": 8,
   "metadata": {},
   "outputs": [],
   "source": [
    "// не может быть нулевой\n",
    "int * p = 0; // OK\n",
    "int & l = 0; // ошибка"
   ]
  },
  {
   "cell_type": "code",
   "execution_count": 9,
   "metadata": {},
   "outputs": [],
   "source": [
    "// ее нельзя переинициализировать\n",
    "int a = 10, b = 20;\n",
    "int *p = &a ; // p указывает на a\n",
    "p = &b; // p указывает на b\n",
    "int &l = a; // l ссылается на a\n",
    "l = b; // a присваивается значение b"
   ]
  },
  {
   "cell_type": "code",
   "execution_count": 10,
   "metadata": {},
   "outputs": [],
   "source": [
    "// нельзя получить адрес ссылки или ссылку на ссылку.\n",
    "int a = 10;\n",
    "int *p = &a; // p указывает на a\n",
    "int **pp = &p;// pp указывает на переменную p\n",
    "int &l = a; // l ссылается на a\n",
    "int *pl = &l; // pl указывает на переменную a\n",
    "int &&ll = l; // ошибка"
   ]
  },
  {
   "cell_type": "code",
   "execution_count": 11,
   "metadata": {},
   "outputs": [],
   "source": [
    "// нельзя создавать массивы ссылок.\n",
    "int * mp [10] = {}; // массив указателей на int\n",
    "int & ml [10] = {}; // ошибка"
   ]
  },
  {
   "cell_type": "code",
   "execution_count": 12,
   "metadata": {},
   "outputs": [],
   "source": [
    "// нет арифметики для ссылок"
   ]
  },
  {
   "cell_type": "code",
   "execution_count": 13,
   "metadata": {},
   "outputs": [],
   "source": [
    "// ∙ Выражения в C++ можно разделить на два типа:\n",
    "/* 1. lvalue — выражения, значения которых являются ссылкой\n",
    "на переменную/элемент массива, а значит могут быть\n",
    "указаны слева от оператора =. */\n",
    "/* 2. rvalue — выражения, значения которых являются\n",
    "временными и не соответствуют никакой\n",
    "переменной/элементу массива.\n",
    "∙ Указатели и ссылки могут указывать только на lvalue. */\n",
    "int a = 10 , b = 20;\n",
    "int m [10] = {1 ,2 ,3 ,4 ,5 ,5 ,4 ,3 ,2 ,1};\n",
    "int & l1 = a; // OK\n",
    "int & l2 = a + b; // ошибка\n",
    "int & l3 = *(m + a / 2); // OK\n",
    "int & l4 = *(m + a / 2) + 1; // ошибка\n",
    "int & l5 = (a + b > 10) ? a : b; // OK"
   ]
  },
  {
   "cell_type": "code",
   "execution_count": 14,
   "metadata": {},
   "outputs": [],
   "source": [
    "// Следует следить за временем жизни переменных.\n",
    "int * foo () {\n",
    "    int a = 10;\n",
    "    return & a ;\n",
    "}\n",
    "int & bar () {\n",
    "    int b = 20;\n",
    "    return b ;\n",
    "}\n",
    "int * p = foo();\n",
    "int & l = bar();"
   ]
  },
  {
   "cell_type": "code",
   "execution_count": 15,
   "metadata": {},
   "outputs": [],
   "source": [
    "// В качестве параметров в функции могут передаваться не только ссылки на \"обычные\"\n",
    "// переменные, но и ссылки на массивы. Следующая функция принимает ссылку на массив из трех значений типа int:\n",
    "void foo(int (&a)[3]) { /* ... */ }"
   ]
  },
  {
   "cell_type": "code",
   "execution_count": 16,
   "metadata": {},
   "outputs": [],
   "source": [
    "// В случае, если мы хотим избежать ненужного копирования при передаче параметров,\n",
    "// но не хотим позволять изменять параметр внутри функции, его следует передавать по константной ссылке:\n",
    "int foo(string const &s) { /* нельзя менять значение s */ }"
   ]
  }
 ],
 "metadata": {
  "kernelspec": {
   "display_name": "C++17",
   "language": "C++17",
   "name": "xeus-cling-cpp17"
  },
  "language_info": {
   "codemirror_mode": "text/x-c++src",
   "file_extension": ".cpp",
   "mimetype": "text/x-c++src",
   "name": "c++",
   "version": "-std=c++17"
  }
 },
 "nbformat": 4,
 "nbformat_minor": 2
}
