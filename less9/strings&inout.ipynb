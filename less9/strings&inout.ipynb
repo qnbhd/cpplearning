{
 "cells": [
  {
   "cell_type": "code",
   "execution_count": 1,
   "metadata": {},
   "outputs": [],
   "source": [
    "#include <iostream>\n",
    "#define endl \"\\n\"\n",
    "\n",
    "using namespace std;"
   ]
  },
  {
   "cell_type": "code",
   "execution_count": 2,
   "metadata": {},
   "outputs": [],
   "source": [
    "// Строки и ввод-вывод"
   ]
  },
  {
   "cell_type": "code",
   "execution_count": 3,
   "metadata": {},
   "outputs": [
    {
     "name": "stdout",
     "output_type": "stream",
     "text": [
      "List :\n",
      "\t- C,\n",
      "\t- C ++.\n"
     ]
    }
   ],
   "source": [
    "// ∙ Строки — это массивы символов типа char,\n",
    "// заканчивающиеся нулевым символом.\n",
    "// массив ’H’, ’e’, ’l’, ’l’, ’o’, ’\\0’\n",
    "char s [] = \" Hello \" ;\n",
    "/*∙ Строки могут содержать управляющие\n",
    "последовательности:\n",
    "1. \\n — перевод строки,\n",
    "2. \\t — символ табуляции,\n",
    "3. \\\\ — символ ’\\’,\n",
    "4. \\\" — символ ’\"’,\n",
    "5. \\0 — нулевой символ. */\n",
    "cout << \"List :\\n\\t- C,\\n\\t- C ++.\\n\" ;"
   ]
  },
  {
   "cell_type": "code",
   "execution_count": 4,
   "metadata": {},
   "outputs": [],
   "source": [
    "// Работа со строками в стиле C"
   ]
  },
  {
   "cell_type": "code",
   "execution_count": 5,
   "metadata": {},
   "outputs": [],
   "source": [
    "/* ∙ Библиотека cstring предлагает множество функций для\n",
    "работы со строками (char *). */\n",
    "char s1 [100] = \"Hello\" ;\n",
    "cout << strlen (s1) << endl; // 5\n",
    "char s2 [] = \", world !\" ;\n",
    "strcat(s1 , s2); // необходимо учитывать размер массива, иначе функция \"попортит\" стек\n",
    "char s3 [6] = {72 , 101 , 108 , 108 , 111};\n",
    "if (strcmp (s1, s3) == 0)  // сравнение на совпадение\n",
    "    cout << \" s1 == s3 \" << endl;\n",
    "/* ∙ Работа со строками в стиле C предполагает кропотливую\n",
    "работу с ручным выделением памяти. */"
   ]
  },
  {
   "cell_type": "code",
   "execution_count": 6,
   "metadata": {},
   "outputs": [],
   "source": [
    "// Работа со строками в стиле C++"
   ]
  },
  {
   "cell_type": "code",
   "execution_count": 7,
   "metadata": {},
   "outputs": [],
   "source": [
    "//Библиотека string предлагает обёртку над строками, которая\n",
    "// позволяет упростить все операции со строками.\n",
    "// # include <string>\n",
    "\n",
    "string s1 = \"Hello\";\n",
    "cout << s1.size() << endl; // 5\n",
    "string s2 = \", world !\" ;\n",
    "s1 = s1 + s2;\n",
    "if (s1 == s2)\n",
    "    cout << \" s1 == s2 \" << endl;"
   ]
  },
  {
   "cell_type": "code",
   "execution_count": 13,
   "metadata": {},
   "outputs": [],
   "source": [
    "// Ввод-вывод в стиле C\n",
    "// ∙ Библиотека cstdio предлагает функции для работы со\n",
    "// стандартным вводом-выводом.\n",
    "#include <cstdio>\n",
    "\n",
    "int z = 20, w = 14;\n",
    "printf(\"Time : %d :%d \\n\" , z, w);\n",
    "printf(\"It's %.2f hours to midnight\\n\" , ((24 - z) * 60.0 - w) / 60);"
   ]
  },
  {
   "cell_type": "code",
   "execution_count": 14,
   "metadata": {},
   "outputs": [],
   "source": [
    "/* ∙ Библиотека cstdio предлагает функции для работы со\n",
    "стандартным вводом-выводом.\n",
    "∙ Для ввода используется функция scanf: */\n",
    "\n",
    "int a = 0, b = 0;\n",
    "printf (\"Enter a and b : \");\n",
    "scanf (\"%d %d\", &a, &b);\n",
    "printf (\"a + b = %d \\n \", (a + b));\n",
    "\n",
    "/* ∙ Ввод-вывод в стиле C достаточно сложен и небезопасен\n",
    "(типы аргументов не проверяются).  */"
   ]
  },
  {
   "cell_type": "code",
   "execution_count": 15,
   "metadata": {},
   "outputs": [],
   "source": [
    "// Ввод-вывод в стиле C++"
   ]
  },
  {
   "cell_type": "code",
   "execution_count": 16,
   "metadata": {},
   "outputs": [
    {
     "name": "stdout",
     "output_type": "stream",
     "text": [
      "Enter your name :qnbhd\n",
      "Hi , qnbhd\n"
     ]
    },
    {
     "data": {
      "text/plain": [
       "@0x7fc9a722d400"
      ]
     },
     "execution_count": 16,
     "metadata": {},
     "output_type": "execute_result"
    }
   ],
   "source": [
    "// ∙ В C++ ввод-вывод реализуется через библиотеку iostream.\n",
    "#include <string>\n",
    "\n",
    "string name;\n",
    "cout << \"Enter your name :\";\n",
    "cin >> name ; // считывается слово\n",
    "cout << \"Hi , \" << name << endl;\n",
    "\n",
    "// ∙ Реализация ввода-вывода в стиле C++ типобезопасна."
   ]
  },
  {
   "cell_type": "code",
   "execution_count": 17,
   "metadata": {},
   "outputs": [],
   "source": [
    "// Работа с файлами в стиле C++"
   ]
  },
  {
   "cell_type": "code",
   "execution_count": 18,
   "metadata": {},
   "outputs": [],
   "source": [
    "// ∙ Библиотека fstream обеспечивает работу с файлами.\n",
    "#include <fstream>\n",
    "\n",
    "string name;\n",
    "ifstream input (\"input.txt\");\n",
    "input >> name;\n",
    "ofstream output(\"output.txt\");\n",
    "output << \"Hi, \" << name << endl;\n",
    "\n",
    "// ∙ Файлы закроются при выходе из функции. "
   ]
  }
 ],
 "metadata": {
  "kernelspec": {
   "display_name": "C++17",
   "language": "C++17",
   "name": "xeus-cling-cpp17"
  },
  "language_info": {
   "codemirror_mode": "text/x-c++src",
   "file_extension": ".cpp",
   "mimetype": "text/x-c++src",
   "name": "c++",
   "version": "-std=c++17"
  }
 },
 "nbformat": 4,
 "nbformat_minor": 2
}
