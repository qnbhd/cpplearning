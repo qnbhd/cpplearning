{
 "cells": [
  {
   "cell_type": "code",
   "execution_count": 2,
   "metadata": {},
   "outputs": [],
   "source": [
    "#include <iostream>\n",
    "#define endl \"\\n\"\n",
    "using namespace std;"
   ]
  },
  {
   "cell_type": "code",
   "execution_count": 2,
   "metadata": {},
   "outputs": [],
   "source": [
    "// Типы данных: \n",
    "// bool: логический тип.\n",
    "int a; // объявление переменной a целого типа. \n",
    "float b; // объявление переменной b типа данных с плавающей запятой. \n",
    "double c = 14.2; // инициализация переменной типа double. \n",
    "char d = 's'; // инициализация переменной типа char. \n",
    "bool k = true; // инициализация логической переменной k."
   ]
  },
  {
   "cell_type": "code",
   "execution_count": 4,
   "metadata": {},
   "outputs": [
    {
     "name": "stdout",
     "output_type": "stream",
     "text": [
      "Size of char : 1\n",
      "Size of int : 4\n",
      "Size of short int : 2\n",
      "Size of long int : 8\n",
      "Size of size_t : 8\n",
      "Size of float : 4\n",
      "Size of double : 8\n",
      "Size of wchar_t : 4\n"
     ]
    }
   ],
   "source": [
    "cout << \"Size of char : \" << sizeof(char) << endl; // -128 до 127, либо от 0 до 255\n",
    "cout << \"Size of int : \" << sizeof(int) << endl; // В зависимости от архитектуры процессора может \n",
    "// занимать 2 байта (16 бит) или 4 байта (32 бита). Диапазон предельных значений соответственно также \n",
    "// может варьироваться от –32767 до 32767 (при 2 байтах) или от −2 147 483 647 до 2 147 483 647 (при 4 байтах).\n",
    "// Но в любом случае размер должен быть больше или равен размеру типа short и меньше или равен размеру типа long\n",
    "cout << \"Size of short int : \" << sizeof(short int) << endl; // –32767 до 32767\n",
    "cout << \"Size of long int : \" << sizeof(long int) << endl; // в зависимости от архитектуры 4/8\n",
    "cout << \"Size of size_t : \" << sizeof(size_t) << endl; // unsigned целочисленный беззнаковый тип \n",
    "cout << \"Size of float : \" << sizeof(float) << endl; // представляет вещественное число ординарной точности с плавающей \n",
    "// точкой в диапазоне +/- 3.4E-38 до 3.4E+38. В памяти занимает 4 байта (32 бита)\n",
    "cout << \"Size of double : \" << sizeof(double) << endl; // представляет вещественное число двойной точности с\n",
    "// плавающей точкой в диапазоне +/- 1.7E-308 до 1.7E+308. В памяти занимает 8 байт (64 бита)\n",
    "cout << \"Size of wchar_t : \" << sizeof(wchar_t) << endl; // представляет расширенный символ. На Windows занимает в памяти 2 байта (16 бит), на Linux - 4 байта (32 бита). Может хранить любой\n",
    "// значение из диапазона от 0 до 65 535 (при 2 байтах), либо от 0 до 4 294 967 295 (для 4 байт)"
   ]
  },
  {
   "cell_type": "code",
   "execution_count": 5,
   "metadata": {},
   "outputs": [],
   "source": [
    "// Типы данных из STL будут разобраны позже"
   ]
  },
  {
   "cell_type": "code",
   "execution_count": 6,
   "metadata": {},
   "outputs": [
    {
     "name": "stdout",
     "output_type": "stream",
     "text": [
      "Z == 5\n"
     ]
    }
   ],
   "source": [
    "// условный оператор:\n",
    "int z = 5;\n",
    "if (z == 5)\n",
    "{\n",
    "    cout << \"Z == 5\" << endl;\n",
    "}"
   ]
  },
  {
   "cell_type": "code",
   "execution_count": 7,
   "metadata": {},
   "outputs": [
    {
     "name": "stdout",
     "output_type": "stream",
     "text": [
      "Z is 5\n"
     ]
    }
   ],
   "source": [
    "// { ... } используется для записи многих действий\n",
    "// Если действие одно, можно обойтись\n",
    "\n",
    "if (z == 5)\n",
    "    cout << \"Z is 5\" << endl;"
   ]
  },
  {
   "cell_type": "code",
   "execution_count": 8,
   "metadata": {},
   "outputs": [
    {
     "name": "stdout",
     "output_type": "stream",
     "text": [
      "key == 3\n"
     ]
    }
   ],
   "source": [
    "// Также есть оператор switch\n",
    "int key = 3;\n",
    "\n",
    "switch (key) {\n",
    "    case 1: \n",
    "        cout << \"key == 1\" << endl;\n",
    "        break; // оператор выхода\n",
    "    case 3:\n",
    "        cout << \"key == 3\" << endl;\n",
    "        break;\n",
    "    default: // если key не равна ни одному из ключей\n",
    "        cout << \"key == default\" << endl;\n",
    "}\n"
   ]
  },
  {
   "cell_type": "code",
   "execution_count": 3,
   "metadata": {},
   "outputs": [
    {
     "name": "stdout",
     "output_type": "stream",
     "text": [
      "1 2 3 4 5 6 7 8 9 10 "
     ]
    }
   ],
   "source": [
    "// циклы\n",
    "\n",
    "int p = 0;\n",
    "\n",
    "while (p++ < 10) { /*p++ сначала возвращает, потом инкрементирует, ++p - наоборот*/\n",
    "    cout << p << \" \";\n",
    "}"
   ]
  },
  {
   "cell_type": "code",
   "execution_count": 4,
   "metadata": {},
   "outputs": [
    {
     "name": "stdout",
     "output_type": "stream",
     "text": [
      "0 1 2 3 4 5 6 7 8 9 "
     ]
    }
   ],
   "source": [
    "// for\n",
    "\n",
    "for (/*<init> - раздел*/ int i = 0; /* условие выхода */ i < 10; ++i) {\n",
    "    cout << i << \" \"; \n",
    "}"
   ]
  },
  {
   "cell_type": "code",
   "execution_count": 5,
   "metadata": {},
   "outputs": [],
   "source": [
    "// также существует конструкция do { } while (<expression>);"
   ]
  }
 ],
 "metadata": {
  "kernelspec": {
   "display_name": "C++17",
   "language": "C++17",
   "name": "xeus-cling-cpp17"
  },
  "language_info": {
   "codemirror_mode": "text/x-c++src",
   "file_extension": ".cpp",
   "mimetype": "text/x-c++src",
   "name": "c++",
   "version": "-std=c++17"
  }
 },
 "nbformat": 4,
 "nbformat_minor": 2
}
