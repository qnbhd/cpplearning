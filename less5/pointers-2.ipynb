{
 "cells": [
  {
   "cell_type": "code",
   "execution_count": 1,
   "metadata": {},
   "outputs": [],
   "source": [
    "#include <iostream>\n",
    "using namespace std;"
   ]
  },
  {
   "cell_type": "code",
   "execution_count": 2,
   "metadata": {},
   "outputs": [],
   "source": [
    "// такой стиль передачи массива предпочтителен\n",
    "// по сравнению с передачей указателя на первый элемент и размера массива\n",
    "// q - указатель, следующий за последним элементом\n",
    "bool contains (int * p, int * q, int value) {\n",
    "    for (; p != q; ++p)\n",
    "    if (*p == value)\n",
    "        return true;\n",
    "    return false;\n",
    "}"
   ]
  },
  {
   "cell_type": "code",
   "execution_count": 3,
   "metadata": {},
   "outputs": [],
   "source": [
    "// можно просто возвращать значение выражения из функции\n",
    "// можно возвращать УКАЗАТЕЛЬ на нужный элемент\n",
    "// а можно n+1 параметром передать еще один указатель, в который мы будем записывать результат\n",
    "// а сама функция будет возвращать bool\n",
    "// или же записывать адрес нужного элемента в УКАЗАТЕЛЬ НА УКАЗАТЕЛЬ, пример последнего варианта:\n",
    "bool max_element (int * p, int * q, int ** res) {\n",
    "    if (p == q)\n",
    "        return false;\n",
    "    *res = p;\n",
    "    for (; p != q; ++p)\n",
    "    if (*p > **res)\n",
    "        *res = p;\n",
    "    return true;\n",
    "}"
   ]
  }
 ],
 "metadata": {
  "kernelspec": {
   "display_name": "C++17",
   "language": "C++17",
   "name": "xeus-cling-cpp17"
  },
  "language_info": {
   "codemirror_mode": "text/x-c++src",
   "file_extension": ".cpp",
   "mimetype": "text/x-c++src",
   "name": "c++",
   "version": "-std=c++17"
  }
 },
 "nbformat": 4,
 "nbformat_minor": 2
}
