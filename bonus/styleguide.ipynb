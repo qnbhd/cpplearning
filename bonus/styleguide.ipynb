{
 "cells": [
  {
   "cell_type": "code",
   "execution_count": 1,
   "metadata": {},
   "outputs": [],
   "source": [
    "// Ставьте пробелы между операторами и операндами:\n",
    "\n",
    "int x = (a + b) * c / d + foo();"
   ]
  },
  {
   "cell_type": "code",
   "execution_count": 2,
   "metadata": {},
   "outputs": [],
   "source": [
    "// Когда строка становится длиннее 100 символов, разделите её на две, сделав перевод на новую строку после оператора, и продолжайте писать:\n",
    "\n",
    "int result = reallyLongFunctionOne() + reallyLongFunctionTwo() + \n",
    "        reallyLongFunctionThree() + reallyLongFunctionFour();\n",
    "\n",
    "int result2 = reallyLongFunction(parameterOne, parameterTwo, parameterThree,\n",
    "        parameterFour, parameterFive, parameterSix);"
   ]
  },
  {
   "cell_type": "code",
   "execution_count": 3,
   "metadata": {},
   "outputs": [],
   "source": [
    "// Если переменная используется лишь внутри определенного if, то делайте её локальной,\n",
    "// объявляя в том же блоке кода, а не глобальной.\n",
    "// Выбирайте подходящий тип данных для ваших переменных. \n",
    "// Если переменная содержит лишь целые числа, то определяйте её как int, а не double."
   ]
  },
  {
   "cell_type": "code",
   "execution_count": 4,
   "metadata": {},
   "outputs": [],
   "source": [
    "// Если определенная константа часто используется в вашем коде, то обозначьте её как const и всегда ссылайтесь на данную константу, а не на её значение:\n",
    "\n",
    "const int VOTING_AGE = 18;"
   ]
  },
  {
   "cell_type": "code",
   "execution_count": 5,
   "metadata": {},
   "outputs": [],
   "source": [
    "// Когда используете операторы управления вроде if / else, for, while, всегда используйте {} и соответствующие отступы,\n",
    "// даже если тело всего оператора управления состоит лишь из одной строки:"
   ]
  },
  {
   "cell_type": "code",
   "execution_count": 6,
   "metadata": {},
   "outputs": [],
   "source": [
    "// Если у вас есть выражение if / else, которое возвращает логическое значение, возвращайте результаты теста напрямую:\n",
    "\n",
    "// Плохая практика\n",
    "if (score1 == score2) {\n",
    "    return true;\n",
    "} else {\n",
    "    return false;\n",
    "}\n",
    "\n",
    "// Хорошая практика\n",
    "return score1 == score2;"
   ]
  },
  {
   "cell_type": "code",
   "execution_count": 7,
   "metadata": {},
   "outputs": [],
   "source": [
    "/*\n",
    "Если вы используете один и тот же код дважды или более, то найдите способ удалить излишний код,\n",
    "чтобы он не повторялся. К примеру, его можно поместить во вспомогательную функцию. \n",
    "Если повторяемый код похож, но не совсем, то постарайтесь сделать вспомогательную функцию,\n",
    "которая принимает параметры и представляет разнящуюся часть\n",
    "*/"
   ]
  },
  {
   "cell_type": "code",
   "execution_count": 8,
   "metadata": {},
   "outputs": [],
   "source": [
    "// Вызывая большую функцию и используя результат несколько раз, сохраните результат в переменной вместо того, чтобы постоянно вызывать данную функцию:\n",
    "\n",
    "// Плохая практика\n",
    "if (reallySlowSearchForIndex(\"abc\") >= 0) {\n",
    "    remove(reallySlowSearchForIndex(\"abc\"));\n",
    "}\n",
    "\n",
    "// Хорошая практика\n",
    "int index = reallySlowSearchForIndex(\"abc\");\n",
    "if (index >= 0) {\n",
    "    remove(index);\n",
    "}"
   ]
  },
  {
   "cell_type": "code",
   "execution_count": 9,
   "metadata": {},
   "outputs": [],
   "source": [
    "// Проектирование классов\n",
    "// Инкапсуляция. Отделяйте ваши объекты, делая все поля данных в вашем классе private:\n",
    "\n",
    "class Student {\n",
    "private:\n",
    "    int homeworkScore;\n",
    "        ..."
   ]
  },
  {
   "cell_type": "code",
   "execution_count": 10,
   "metadata": {},
   "outputs": [],
   "source": [
    "// Членам класса с модификатором private следует присваивать суффикс-подчёркивание.\n",
    "\n",
    "class SomeClass {\n",
    "  private:\n",
    "    int length_;\n",
    "}"
   ]
  },
  {
   "cell_type": "code",
   "execution_count": 11,
   "metadata": {},
   "outputs": [],
   "source": [
    "// Настраиваемым переменным следует давать то же имя, что и у их типа.\n",
    "\n",
    "void setTopic(Topic* topic)      // НЕЛЬЗЯ: void setTopic(Topic* value)\n",
    "                                 // НЕЛЬЗЯ: void setTopic(Topic* aTopic)\n",
    "                                 // НЕЛЬЗЯ: void setTopic(Topic* t)\n",
    "\n",
    "void connect(Database* database) // НЕЛЬЗЯ: void connect(Database* db)\n",
    "                                 // НЕЛЬЗЯ: void connect (Database* oracleDB)"
   ]
  },
  {
   "cell_type": "code",
   "execution_count": 12,
   "metadata": {},
   "outputs": [],
   "source": [
    "// Имена объектов не указываются явно, следует избегать указания названий объектов в именах методов.\n",
    "\n",
    "line.getLength();   // НЕ РЕКОМЕНДУЕТСЯ: line.getLineLength();"
   ]
  },
  {
   "cell_type": "code",
   "execution_count": 13,
   "metadata": {},
   "outputs": [],
   "source": [
    "// Слова get/set должны быть использованы везде, где осуществляется прямой доступ к атрибуту.\n",
    "\n",
    "employee.getName();\n",
    "employee.setName(name);\n",
    "\n",
    "matrix.getElement(2, 4);\n",
    "matrix.setElement(2, 4, value);"
   ]
  },
  {
   "cell_type": "code",
   "execution_count": 14,
   "metadata": {},
   "outputs": [],
   "source": [
    "// Слово compute может быть использовано в методах, вычисляющих что-либо.\n",
    "\n",
    "valueSet->computeAverage();\n",
    "matrix->computeInverse()\n",
    "\n",
    "// Дайте читающему сразу понять, что это времязатратная операция."
   ]
  },
  {
   "cell_type": "code",
   "execution_count": 15,
   "metadata": {},
   "outputs": [],
   "source": [
    "// Префикс n следует использовать для представления числа объектов.\n",
    "\n",
    "nPoints, nLines"
   ]
  },
  {
   "cell_type": "code",
   "execution_count": 16,
   "metadata": {},
   "outputs": [],
   "source": [
    "// Префикс is следует использовать только для булевых (логических) переменных и методов.\n",
    "\n",
    "isSet, isVisible, isFinished, isFound, isOpen"
   ]
  },
  {
   "cell_type": "code",
   "execution_count": 17,
   "metadata": {},
   "outputs": [],
   "source": [
    "// Симметричные имена должны использоваться для соответствующих операций.\n",
    "\n",
    "get/set, add/remove, create/destroy, start/stop, insert/delete,\n",
    "increment/decrement, old/new, begin/end, first/last, up/down, min/max,\n",
    "next/previous, old/new, open/close, show/hide, suspend/resume, и т. д."
   ]
  },
  {
   "cell_type": "code",
   "execution_count": 18,
   "metadata": {},
   "outputs": [],
   "source": [
    "// Следует избегать неявного сравнения булевых (логических) переменных и указателей с нулём.\n",
    "\n",
    "if (nLines != 0)  // НЕ РЕКОМЕНДУЕТСЯ: if (nLines)\n",
    "if (value != 0.0) // НЕ РЕКОМЕНДУЕТСЯ: if (value)"
   ]
  },
  {
   "cell_type": "code",
   "execution_count": 19,
   "metadata": {},
   "outputs": [],
   "source": [
    "// Строго избегайте сложных уловных выражений. Вместо этого вводите булевы переменные.\n",
    "\n",
    "bool isFinished = (elementNo < 0) || (elementNo > maxElement);\n",
    "bool isRepeatedEntry = elementNo == lastElement;\n",
    "if (isFinished || isRepeatedEntry) {\n",
    "  :\n",
    "}\n",
    "\n",
    "// NOT:\n",
    "if ((elementNo < 0) || (elementNo > maxElement)||\n",
    "     elementNo == lastElement) {\n",
    "  :\n",
    "}"
   ]
  },
  {
   "cell_type": "code",
   "execution_count": 20,
   "metadata": {},
   "outputs": [],
   "source": [
    "// Возвращаемый функцией тип может располагаться над именем самой функции.\n",
    "\n",
    "void\n",
    "MyClass::myMethod(void)\n",
    "{\n",
    "  :\n",
    "}"
   ]
  }
 ],
 "metadata": {
  "kernelspec": {
   "display_name": "C++17",
   "language": "C++17",
   "name": "xeus-cling-cpp17"
  },
  "language_info": {
   "codemirror_mode": "text/x-c++src",
   "file_extension": ".cpp",
   "mimetype": "text/x-c++src",
   "name": "c++",
   "version": "-std=c++17"
  }
 },
 "nbformat": 4,
 "nbformat_minor": 2
}
