{
 "cells": [
  {
   "cell_type": "code",
   "execution_count": 1,
   "metadata": {},
   "outputs": [],
   "source": [
    "#include <iostream>\n",
    "#define endl \"\\n\"\n",
    "#include \"image.cpp\"\n",
    "using namespace std;\n",
    "im::image pic1(\"images/pic1.png\")"
   ]
  },
  {
   "cell_type": "code",
   "execution_count": 2,
   "metadata": {},
   "outputs": [
    {
     "name": "stdout",
     "output_type": "stream",
     "text": [
      "10 10\n"
     ]
    }
   ],
   "source": [
    "/* ∙ Указатель — это переменная, хранящая адрес некоторой\n",
    "ячейки памяти.\n",
    "∙ Указатели являются типизированными. */\n",
    "int i = 3; // переменная типа int\n",
    "int * p = 0; // указатель на переменную типа int\n",
    "/*∙ Нулевому указателю (которому присвоено значение 0)\n",
    "не соответствует никакая ячейка памяти.\n",
    "∙ Оператор взятия адреса переменной &.\n",
    "∙ Оператор разыменования *. */\n",
    "p = &i ; // указатель p указывает на переменную i\n",
    "*p = 10; // изменяется ячейка по адресу p, т.е. i\n",
    "cout << i << \" \" << *p << endl;"
   ]
  },
  {
   "cell_type": "code",
   "execution_count": 3,
   "metadata": {},
   "outputs": [
    {
     "name": "stdout",
     "output_type": "stream",
     "text": [
      "10 20\n"
     ]
    },
    {
     "data": {
      "text/plain": [
       "@0x7f75d522f400"
      ]
     },
     "execution_count": 3,
     "metadata": {},
     "output_type": "execute_result"
    }
   ],
   "source": [
    "// Рассмотрим функцию, меняющую параметры местами:\n",
    "void swap (int a , int b )\n",
    "{\n",
    "    int t = a ;\n",
    "    a = b ;\n",
    "    b = t ;\n",
    "}\n",
    "\n",
    "int k = 10 , m = 20;\n",
    "swap (k , m );\n",
    "cout << k << \" \" << m << endl; // 10 20\n",
    "\n",
    "// swap изменяет локальные копии переменных k и m."
   ]
  },
  {
   "cell_type": "code",
   "execution_count": 4,
   "metadata": {},
   "outputs": [
    {
     "name": "stdout",
     "output_type": "stream",
     "text": [
      "20 10\n"
     ]
    },
    {
     "data": {
      "text/plain": [
       "@0x7f75d522f400"
      ]
     },
     "execution_count": 4,
     "metadata": {},
     "output_type": "execute_result"
    }
   ],
   "source": [
    "// Вместо значений типа int будем передавать указатели.\n",
    "void swap2 (int * a , int * b ) {\n",
    "    int t = * a ;\n",
    "    * a = * b ;\n",
    "    * b = t ;\n",
    "}\n",
    "\n",
    "int x = 10 , y = 20;\n",
    "swap2 (& x , & y );\n",
    "cout << x << ' ' << y << endl ; // 20 10\n",
    "\n",
    "// swap изменяет переменные k и m по указателям на них."
   ]
  },
  {
   "cell_type": "code",
   "execution_count": 5,
   "metadata": {},
   "outputs": [
    {
     "name": "stdout",
     "output_type": "stream",
     "text": [
      "1 2 3 4 5 0 0 0 0 0 \n"
     ]
    }
   ],
   "source": [
    "/* ∙ Массив — это набор однотипных элементов,\n",
    "расположенных в памяти друг за другом, доступ к\n",
    "которым осуществляется по индексу.\n",
    "∙ C++ позволяет определять массивы на стеке. */\n",
    "// массив 1 2 3 4 5 0 0 0 0 0\n",
    "int arr [10] = {1 , 2 , 3 , 4 , 5};\n",
    "/* ∙ Индексация массива начинается с 0, последний элемент\n",
    "массива длины n имеет индекс n - 1. */\n",
    "for (int i = 0; i < 10; ++ i)\n",
    "    cout << arr[i] << ' ';\n",
    "cout << endl;"
   ]
  },
  {
   "cell_type": "code",
   "execution_count": 6,
   "metadata": {},
   "outputs": [
    {
     "data": {
      "image/png": "[encoded data removed]"
     },
     "execution_count": 6,
     "metadata": {},
     "output_type": "execute_result"
    }
   ],
   "source": [
    "/*∙ Указатели позволяют передвигаться по массивам.\n",
    "∙ Для этого используется арифметика указателей:*/\n",
    "int m [10] = {1 , 2 , 3 , 4 , 5};\n",
    "int * p = &m[0]; // адрес начала массива\n",
    "int * q = &m[9]; // адрес последнего элемента\n",
    "/* ∙ (p + k) — сдвиг на k ячеек типа int вправо.\n",
    "∙ (p - k) — сдвиг на k ячеек типа int влево.\n",
    "∙ (q - p) — количество ячеек между указателями.\n",
    "∙ p[k] эквивалентно *(p + k) */\n",
    "pic1"
   ]
  },
  {
   "cell_type": "code",
   "execution_count": null,
   "metadata": {},
   "outputs": [],
   "source": [
    "// Заполнение массива:\n",
    "int m [10] = {}; // изначально заполнен нулями\n",
    "// &m[0] &m[9]\n",
    "for (int * p = m;p <= m + 9; ++ p)\n",
    "    *p = (p - m) + 1;\n",
    "\n",
    "// Массив заполнен числами от 1 до 10\n",
    "// Передача массива в функцию:\n",
    "\n",
    "int max_element (int * m , int size ) {\n",
    "    int max = * m ;\n",
    "    for (int i = 1; i < size ; ++ i)\n",
    "        if (m [i] > max)\n",
    "            max = m [i];\n",
    "    return max ;\n",
    "}"
   ]
  },
  {
   "cell_type": "code",
   "execution_count": 8,
   "metadata": {},
   "outputs": [],
   "source": [
    "// C-style строки\n",
    "/*\n",
    "В языке C строки представляли как массивы char-ов, которые заканчиваются специальным\n",
    "символом ‘\\0’ (на самом деле, это просто символ с номером 0). C++ сохраняет (в основном)\n",
    "совместимость с языком C, и поэтому поддерживает работу с C-style строками.\n",
    "Строковые литералы в С++ имеют тип массива, например, литерал “C-style string” имеет\n",
    "тип const char[15] — 14 символов строки и нулевой завершающий символ. \n",
    "Ключевое слово const в данном случае обозначает то, что изменять содержимое строки нельзя.\n",
    "Менять содержимое литералов — это довольно плохая затея.\n",
    "Для изменения строки, заданной строковым литералом, можно создать её копию в массиве: */\n",
    "char copy[15] = \"C-style string\";\n",
    "\n",
    "//Размер массива в таком определении указывать не обязательно — если массив инициализируется\n",
    "//сразу при создании, то компилятор может и сам вычислить размер массива:\n",
    "char copy2[] = \"C-style string\"; // размер массива 15 char-ов"
   ]
  },
  {
   "cell_type": "code",
   "execution_count": 9,
   "metadata": {},
   "outputs": [
    {
     "data": {
      "text/plain": [
       "\"C-style string\""
      ]
     },
     "execution_count": 9,
     "metadata": {},
     "output_type": "execute_result"
    }
   ],
   "source": [
    "copy2"
   ]
  },
  {
   "cell_type": "code",
   "execution_count": null,
   "metadata": {},
   "outputs": [],
   "source": []
  }
 ],
 "metadata": {
  "kernelspec": {
   "display_name": "C++17",
   "language": "C++17",
   "name": "xeus-cling-cpp17"
  },
  "language_info": {
   "codemirror_mode": "text/x-c++src",
   "file_extension": ".cpp",
   "mimetype": "text/x-c++src",
   "name": "c++",
   "version": "-std=c++17"
  }
 },
 "nbformat": 4,
 "nbformat_minor": 2
}
